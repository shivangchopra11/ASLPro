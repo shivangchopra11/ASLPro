{
 "cells": [
  {
   "cell_type": "code",
   "execution_count": 1,
   "metadata": {},
   "outputs": [
    {
     "name": "stderr",
     "output_type": "stream",
     "text": [
      "Using TensorFlow backend.\n"
     ]
    }
   ],
   "source": [
    "import cv2\n",
    "import numpy as np\n",
    "from keras.models import load_model"
   ]
  },
  {
   "cell_type": "code",
   "execution_count": 2,
   "metadata": {},
   "outputs": [],
   "source": [
    "model = load_model('Gesture_Recognizing.h5')"
   ]
  },
  {
   "cell_type": "code",
   "execution_count": 3,
   "metadata": {},
   "outputs": [],
   "source": [
    "def predict(cur):\n",
    "    fin_img = cv2.resize(cur, (100,100) )\n",
    "    fin_img = np.array(fin_img)\n",
    "    fin_img = fin_img.reshape( (1,100,100,1) )\n",
    "    fin_img = fin_img/255.0\n",
    "    result = model.predict( fin_img )\n",
    "    num = result.argmax()\n",
    "    return num"
   ]
  },
  {
   "cell_type": "code",
   "execution_count": null,
   "metadata": {},
   "outputs": [
    {
     "name": "stdout",
     "output_type": "stream",
     "text": [
      "0\n",
      "0\n",
      "5\n",
      "e\n",
      "4\n",
      "ed\n",
      "5\n",
      "ede\n",
      "5\n",
      "edee\n",
      "5\n",
      "edeee\n"
     ]
    }
   ],
   "source": [
    "cap = cv2.VideoCapture(0)\n",
    "predicting = False\n",
    "cur_text = ''\n",
    "while(True):\n",
    "    ret, frame = cap.read()\n",
    "    frame = cv2.flip(frame, 1)\n",
    "    img = cv2.rectangle(frame,(800,100),(1200,500),(0,255,255),3)\n",
    "    font = cv2.FONT_HERSHEY_SIMPLEX\n",
    "    cv2.putText(img,'Align hand in this square',(800,80), font, 1,(0,0,0),2,cv2.LINE_AA)\n",
    "    cv2.putText(frame,cur_text,(800,530), font, 1,(0,0,0),2,cv2.LINE_AA)\n",
    "    cv2.imshow('frame',img)\n",
    "    x = 800\n",
    "    y = 100\n",
    "    side = 400\n",
    "    img_save = img[y:y+side, x:x+side]\n",
    "    img_save = cv2.cvtColor(img_save, cv2.COLOR_BGR2GRAY)\n",
    "    blur = cv2.GaussianBlur(img_save,(5,5),0)\n",
    "    ret3,th3 = cv2.threshold(blur,0,255,cv2.THRESH_BINARY_INV+cv2.THRESH_OTSU)\n",
    "    if predicting:\n",
    "        num = predict(th3)\n",
    "        print num\n",
    "        if num!=0:\n",
    "            alph = chr(num+96)\n",
    "            cur_text += alph\n",
    "            print cur_text\n",
    "        predicting = False\n",
    "    \n",
    "    if cv2.waitKey(1) & 0xFF == ord('s'):\n",
    "        predicting = True\n",
    "#     if cv2.waitKey(1) & 0xFF == ord('e'):\n",
    "#         predicting = False\n",
    "    if cv2.waitKey(1) & 0xFF == ord('q'):\n",
    "        break\n",
    "    \n",
    "    \n",
    "    \n",
    "cap.release()\n",
    "cv2.destroyAllWindows()\n",
    "cv2.waitKey(1)\n"
   ]
  },
  {
   "cell_type": "code",
   "execution_count": null,
   "metadata": {},
   "outputs": [],
   "source": []
  },
  {
   "cell_type": "code",
   "execution_count": null,
   "metadata": {},
   "outputs": [],
   "source": []
  }
 ],
 "metadata": {
  "kernelspec": {
   "display_name": "Python 2",
   "language": "python",
   "name": "python2"
  },
  "language_info": {
   "codemirror_mode": {
    "name": "ipython",
    "version": 2
   },
   "file_extension": ".py",
   "mimetype": "text/x-python",
   "name": "python",
   "nbconvert_exporter": "python",
   "pygments_lexer": "ipython2",
   "version": "2.7.15"
  }
 },
 "nbformat": 4,
 "nbformat_minor": 2
}
