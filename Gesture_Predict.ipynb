{
 "cells": [
  {
   "cell_type": "code",
   "execution_count": 2,
   "metadata": {},
   "outputs": [
    {
     "name": "stderr",
     "output_type": "stream",
     "text": [
      "Using TensorFlow backend.\n"
     ]
    }
   ],
   "source": [
    "import cv2\n",
    "import numpy as np\n",
    "from keras.models import load_model"
   ]
  },
  {
   "cell_type": "code",
   "execution_count": 3,
   "metadata": {},
   "outputs": [],
   "source": [
    "model = load_model('Gesture_Recognizing.h5')"
   ]
  },
  {
   "cell_type": "code",
   "execution_count": 4,
   "metadata": {},
   "outputs": [],
   "source": [
    "def predict(cur):\n",
    "    fin_img = cv2.resize(cur, (100,100) )\n",
    "    fin_img = np.array(fin_img)\n",
    "    fin_img = fin_img.reshape( (1,100,100,1) )\n",
    "    fin_img = fin_img/255.0\n",
    "    result = model.predict( fin_img )\n",
    "    num = np.argmax( result[0] )\n",
    "    return num, result[0][num]"
   ]
  },
  {
   "cell_type": "code",
   "execution_count": 10,
   "metadata": {},
   "outputs": [
    {
     "name": "stdout",
     "output_type": "stream",
     "text": [
      "30\n",
      "8\n",
      "h\n",
      "5\n",
      "he\n",
      "12\n",
      "hel\n",
      "12\n",
      "hell\n",
      "15\n",
      "hello\n",
      "30\n",
      "8\n",
      "h\n",
      "5\n",
      "he\n",
      "12\n",
      "hel\n",
      "12\n",
      "hell\n",
      "15\n",
      "hello\n",
      "30\n"
     ]
    },
    {
     "data": {
      "text/plain": [
       "-1"
      ]
     },
     "execution_count": 10,
     "metadata": {},
     "output_type": "execute_result"
    }
   ],
   "source": [
    "cv2.namedWindow(\"frame\", cv2.WINDOW_NORMAL)\n",
    "cv2.namedWindow(\"hand\", cv2.WINDOW_NORMAL)\n",
    "# cv2.namedWindow(\"text\", cv2.WINDOW_NORMAL)\n",
    "cap = cv2.VideoCapture(0)\n",
    "predicting = False\n",
    "cur_text = ''\n",
    "while(True):\n",
    "    ret, frame = cap.read()\n",
    "    frame = cv2.flip(frame, 1)\n",
    "    img = cv2.rectangle(frame,(800,100),(1200,500),(0,255,255),3)\n",
    "    font = cv2.FONT_HERSHEY_SIMPLEX\n",
    "    cv2.putText(img,'Align hand in this square',(800,80), font, 1,(0,0,0),2,cv2.LINE_AA)\n",
    "    text = cv2.rectangle(frame,(800,510),(1200,600),(255,255,255),-1)\n",
    "    cv2.putText(frame,\"Predicted Text:-\",(810,540), font, 1,(0,0,0),2,cv2.LINE_AA)\n",
    "    cv2.putText(frame,cur_text,(810,580), font, 1,(0,0,0),2,cv2.LINE_AA)\n",
    "    res = np.hstack((frame, text))\n",
    "    cv2.imshow('frame',img)\n",
    "    x = 800\n",
    "    y = 100\n",
    "    side = 400\n",
    "    img_save = img[y:y+side, x:x+side]\n",
    "    img_save = cv2.cvtColor(img_save, cv2.COLOR_BGR2GRAY)\n",
    "    blur = cv2.GaussianBlur(img_save,(5,5),0)\n",
    "    ret3,th3 = cv2.threshold(blur,0,255,cv2.THRESH_BINARY_INV+cv2.THRESH_OTSU)\n",
    "    cv2.imshow(\"hand\", th3)\n",
    "    if predicting:\n",
    "        num, _ = predict(th3)\n",
    "        print num\n",
    "        if num==30:\n",
    "            cur_text = 'I Love You'\n",
    "        elif num!=0:\n",
    "            alph = chr(num+96)\n",
    "            cur_text += alph\n",
    "            print cur_text\n",
    "        predicting = False\n",
    "    keypress = cv2.waitKey(1)\n",
    "    \n",
    "    if keypress == ord('q'):\n",
    "        break\n",
    "    if keypress == ord('s'):\n",
    "        predicting = True\n",
    "    if keypress == ord('c'):\n",
    "        cur_text = ''\n",
    "    \n",
    "    \n",
    "cap.release()\n",
    "cv2.destroyAllWindows()\n",
    "cv2.waitKey(1)\n"
   ]
  },
  {
   "cell_type": "code",
   "execution_count": null,
   "metadata": {},
   "outputs": [],
   "source": []
  },
  {
   "cell_type": "code",
   "execution_count": null,
   "metadata": {},
   "outputs": [],
   "source": []
  }
 ],
 "metadata": {
  "kernelspec": {
   "display_name": "Python 2",
   "language": "python",
   "name": "python2"
  },
  "language_info": {
   "codemirror_mode": {
    "name": "ipython",
    "version": 2
   },
   "file_extension": ".py",
   "mimetype": "text/x-python",
   "name": "python",
   "nbconvert_exporter": "python",
   "pygments_lexer": "ipython2",
   "version": "2.7.15"
  }
 },
 "nbformat": 4,
 "nbformat_minor": 2
}
