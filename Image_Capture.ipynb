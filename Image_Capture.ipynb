{
 "cells": [
  {
   "cell_type": "code",
   "execution_count": 1,
   "metadata": {},
   "outputs": [],
   "source": [
    "import numpy as np\n",
    "import cv2\n",
    "import matplotlib.pyplot as plt\n",
    "%matplotlib inline"
   ]
  },
  {
   "cell_type": "code",
   "execution_count": 10,
   "metadata": {},
   "outputs": [
    {
     "data": {
      "text/plain": [
       "-1"
      ]
     },
     "execution_count": 10,
     "metadata": {},
     "output_type": "execute_result"
    }
   ],
   "source": [
    "path = './Gestures/ily'\n",
    "ctr = 0\n",
    "cap = cv2.VideoCapture(0)\n",
    "capturing = False\n",
    "while(True):\n",
    "    ret, frame = cap.read()\n",
    "    frame = cv2.flip(frame, 1)\n",
    "    img = cv2.rectangle(frame,(800,100),(1200,500),(0,255,255),3)\n",
    "    font = cv2.FONT_HERSHEY_SIMPLEX\n",
    "    cv2.putText(img,'Align hand in this square',(800,80), font, 1,(255,255,255),2,cv2.LINE_AA)\n",
    "    cv2.imshow('frame',img)\n",
    "    x = 800\n",
    "    y = 100\n",
    "    side = 400\n",
    "    img_save = img[y:y+side, x:x+side]\n",
    "    img_save = cv2.cvtColor(img_save, cv2.COLOR_BGR2GRAY)\n",
    "    blur = cv2.GaussianBlur(img_save,(5,5),0)\n",
    "    ret3,th3 = cv2.threshold(blur,0,255,cv2.THRESH_BINARY_INV+cv2.THRESH_OTSU)\n",
    "    if capturing:\n",
    "        ctr += 1\n",
    "        fin_img = cv2.resize( th3, (100,100) )\n",
    "        fin_img = np.array(fin_img)\n",
    "        cv2.imwrite(path + '/' + str(ctr)+'.jpg', fin_img)\n",
    "#         cv2.imshow(\"hand\"+str(ctr), th3)\n",
    "    if cv2.waitKey(1) & 0xFF == ord('q'):\n",
    "        break\n",
    "    if cv2.waitKey(1) & 0xFF == ord('c'):\n",
    "        capturing = True\n",
    "    if ctr == 1000:\n",
    "        capturing = False\n",
    "    \n",
    "cap.release()\n",
    "cv2.destroyAllWindows()\n",
    "cv2.waitKey(1)"
   ]
  },
  {
   "cell_type": "code",
   "execution_count": null,
   "metadata": {},
   "outputs": [],
   "source": []
  }
 ],
 "metadata": {
  "kernelspec": {
   "display_name": "Python 2",
   "language": "python",
   "name": "python2"
  },
  "language_info": {
   "codemirror_mode": {
    "name": "ipython",
    "version": 2
   },
   "file_extension": ".py",
   "mimetype": "text/x-python",
   "name": "python",
   "nbconvert_exporter": "python",
   "pygments_lexer": "ipython2",
   "version": "2.7.15"
  }
 },
 "nbformat": 4,
 "nbformat_minor": 2
}
