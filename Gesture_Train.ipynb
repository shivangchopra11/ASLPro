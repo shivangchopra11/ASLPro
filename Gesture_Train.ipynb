{
 "cells": [
  {
   "cell_type": "code",
   "execution_count": 47,
   "metadata": {},
   "outputs": [],
   "source": [
    "import numpy as np\n",
    "import pandas as pd\n",
    "import matplotlib.pyplot as plt\n",
    "%matplotlib inline\n",
    "from keras.layers import Dense, Activation, Flatten, Dropout, Convolution2D, MaxPooling2D\n",
    "from keras.models import Sequential\n",
    "from keras.utils import np_utils\n",
    "import os\n",
    "import cv2\n",
    "from keras.utils import np_utils\n",
    "from sklearn.model_selection import train_test_split \n",
    "from sklearn.utils import shuffle"
   ]
  },
  {
   "cell_type": "code",
   "execution_count": 48,
   "metadata": {},
   "outputs": [],
   "source": [
    "path = './Gestures/'"
   ]
  },
  {
   "cell_type": "code",
   "execution_count": 49,
   "metadata": {},
   "outputs": [
    {
     "name": "stdout",
     "output_type": "stream",
     "text": [
      "['a', 'b', 'c', 'd', 'e', 'f', 'g', 'h', 'i', 'ily', 'j', 'k', 'l', 'm', 'n', 'Nothing', 'o', 'p', 'q', 'r', 's', 't', 'u', 'v', 'w', 'x', 'y', 'z']\n"
     ]
    }
   ],
   "source": [
    "gestures = os.listdir(path)[1:]\n",
    "print gestures"
   ]
  },
  {
   "cell_type": "code",
   "execution_count": 50,
   "metadata": {},
   "outputs": [],
   "source": [
    "x , y = [], []\n",
    "\n",
    "for i in gestures:\n",
    "    images = os.listdir(path + i)\n",
    "#     print images\n",
    "    for j in images:\n",
    "        if j == \".DS_Store\":\n",
    "            continue\n",
    "        img_path = path + i + '/' + j\n",
    "        img = cv2.imread(img_path, 0)\n",
    "        img = cv2.resize( img, (100,100) )\n",
    "        img = np.array(img)\n",
    "        img = img.reshape( (100,100,1) )\n",
    "        img = img/255.0\n",
    "        x.append(img)\n",
    "        if i == 'Nothing':\n",
    "            y.append(0)\n",
    "        elif i == 'ily':\n",
    "            y.append(30)\n",
    "        else:\n",
    "            y.append( ord(i) - 96 )"
   ]
  },
  {
   "cell_type": "code",
   "execution_count": 51,
   "metadata": {},
   "outputs": [
    {
     "name": "stdout",
     "output_type": "stream",
     "text": [
      "[ 0  5  8 12 15 30]\n",
      "[ 5  5  5 ... 15 15 15]\n"
     ]
    }
   ],
   "source": [
    "x = np.array(x)\n",
    "y = np.array(y)\n",
    "print np.unique(y)\n",
    "print y"
   ]
  },
  {
   "cell_type": "code",
   "execution_count": 52,
   "metadata": {},
   "outputs": [],
   "source": [
    "x , y = shuffle(x, y, random_state=0)"
   ]
  },
  {
   "cell_type": "code",
   "execution_count": 53,
   "metadata": {},
   "outputs": [
    {
     "name": "stdout",
     "output_type": "stream",
     "text": [
      "3\n"
     ]
    }
   ],
   "source": [
    "print ord('c') - 96"
   ]
  },
  {
   "cell_type": "code",
   "execution_count": 54,
   "metadata": {},
   "outputs": [],
   "source": [
    "x_train,x_test,y_train,y_test = train_test_split(x,y,test_size=0.30)"
   ]
  },
  {
   "cell_type": "code",
   "execution_count": 55,
   "metadata": {},
   "outputs": [
    {
     "name": "stdout",
     "output_type": "stream",
     "text": [
      "(array([ 0,  5,  8, 12, 15, 30]), array([304, 307, 290, 288, 298, 313]))\n"
     ]
    }
   ],
   "source": [
    "print np.unique(y_test, return_counts=True)"
   ]
  },
  {
   "cell_type": "code",
   "execution_count": 56,
   "metadata": {},
   "outputs": [
    {
     "name": "stdout",
     "output_type": "stream",
     "text": [
      "(4200, 31)\n",
      "(1800, 31)\n"
     ]
    }
   ],
   "source": [
    "y_train = np_utils.to_categorical(y_train)\n",
    "y_test = np_utils.to_categorical(y_test)\n",
    "print y_train.shape\n",
    "print y_test.shape"
   ]
  },
  {
   "cell_type": "code",
   "execution_count": 61,
   "metadata": {},
   "outputs": [
    {
     "name": "stdout",
     "output_type": "stream",
     "text": [
      "_________________________________________________________________\n",
      "Layer (type)                 Output Shape              Param #   \n",
      "=================================================================\n",
      "flatten_7 (Flatten)          (None, 10000)             0         \n",
      "_________________________________________________________________\n",
      "dense_17 (Dense)             (None, 128)               1280128   \n",
      "_________________________________________________________________\n",
      "activation_20 (Activation)   (None, 128)               0         \n",
      "_________________________________________________________________\n",
      "dense_18 (Dense)             (None, 64)                8256      \n",
      "_________________________________________________________________\n",
      "dropout_7 (Dropout)          (None, 64)                0         \n",
      "_________________________________________________________________\n",
      "activation_21 (Activation)   (None, 64)                0         \n",
      "_________________________________________________________________\n",
      "dense_19 (Dense)             (None, 31)                2015      \n",
      "_________________________________________________________________\n",
      "activation_22 (Activation)   (None, 31)                0         \n",
      "=================================================================\n",
      "Total params: 1,290,399\n",
      "Trainable params: 1,290,399\n",
      "Non-trainable params: 0\n",
      "_________________________________________________________________\n"
     ]
    }
   ],
   "source": [
    "model = Sequential()\n",
    "model.add(Flatten(input_shape=(100, 100, 1)))\n",
    "model.add(Dense(128))\n",
    "model.add(Activation('relu'))\n",
    "model.add(Dense(64))\n",
    "model.add( Dropout(0.4) )\n",
    "model.add(Activation('relu'))\n",
    "model.add(Dense(31))\n",
    "model.add(Activation('softmax'))\n",
    "\n",
    "model.summary()"
   ]
  },
  {
   "cell_type": "code",
   "execution_count": 63,
   "metadata": {},
   "outputs": [],
   "source": [
    "model.compile(optimizer='adam', loss='categorical_crossentropy', metrics=['accuracy'])"
   ]
  },
  {
   "cell_type": "code",
   "execution_count": 64,
   "metadata": {},
   "outputs": [
    {
     "name": "stdout",
     "output_type": "stream",
     "text": [
      "Train on 4200 samples, validate on 1800 samples\n",
      "Epoch 1/10\n",
      "4200/4200 [==============================] - 5s 1ms/step - loss: 0.4183 - acc: 0.8829 - val_loss: 0.0472 - val_acc: 0.9889\n",
      "Epoch 2/10\n",
      "4200/4200 [==============================] - 5s 1ms/step - loss: 0.0701 - acc: 0.9812 - val_loss: 0.0201 - val_acc: 0.9944\n",
      "Epoch 3/10\n",
      "4200/4200 [==============================] - 5s 1ms/step - loss: 0.0398 - acc: 0.9871 - val_loss: 0.0057 - val_acc: 0.9983\n",
      "Epoch 4/10\n",
      "4200/4200 [==============================] - 5s 1ms/step - loss: 0.0150 - acc: 0.9948 - val_loss: 0.0440 - val_acc: 0.9806\n",
      "Epoch 5/10\n",
      "4200/4200 [==============================] - 5s 1ms/step - loss: 0.0150 - acc: 0.9960 - val_loss: 0.0113 - val_acc: 0.9950\n",
      "Epoch 6/10\n",
      "4200/4200 [==============================] - 5s 1ms/step - loss: 0.0109 - acc: 0.9962 - val_loss: 0.0151 - val_acc: 0.9956\n",
      "Epoch 7/10\n",
      "4200/4200 [==============================] - 5s 1ms/step - loss: 0.0040 - acc: 0.9990 - val_loss: 1.6753e-04 - val_acc: 1.0000\n",
      "Epoch 8/10\n",
      "4200/4200 [==============================] - 5s 1ms/step - loss: 0.0098 - acc: 0.9976 - val_loss: 0.0268 - val_acc: 0.9889\n",
      "Epoch 9/10\n",
      "4200/4200 [==============================] - 5s 1ms/step - loss: 0.0485 - acc: 0.9874 - val_loss: 0.0744 - val_acc: 0.9828\n",
      "Epoch 10/10\n",
      "4200/4200 [==============================] - 5s 1ms/step - loss: 0.0378 - acc: 0.9900 - val_loss: 8.4693e-04 - val_acc: 1.0000\n"
     ]
    },
    {
     "data": {
      "text/plain": [
       "<keras.callbacks.History at 0x131b4ba90>"
      ]
     },
     "execution_count": 64,
     "metadata": {},
     "output_type": "execute_result"
    }
   ],
   "source": [
    "model.fit( x_train, y_train, validation_data=( x_test, y_test ), shuffle=True, epochs=10 )"
   ]
  },
  {
   "cell_type": "code",
   "execution_count": 65,
   "metadata": {},
   "outputs": [],
   "source": [
    "model.save('Gesture_Recognizing.h5')"
   ]
  },
  {
   "cell_type": "code",
   "execution_count": null,
   "metadata": {},
   "outputs": [],
   "source": []
  }
 ],
 "metadata": {
  "kernelspec": {
   "display_name": "Python 2",
   "language": "python",
   "name": "python2"
  },
  "language_info": {
   "codemirror_mode": {
    "name": "ipython",
    "version": 2
   },
   "file_extension": ".py",
   "mimetype": "text/x-python",
   "name": "python",
   "nbconvert_exporter": "python",
   "pygments_lexer": "ipython2",
   "version": "2.7.15"
  }
 },
 "nbformat": 4,
 "nbformat_minor": 2
}
