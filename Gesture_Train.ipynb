{
 "cells": [
  {
   "cell_type": "code",
   "execution_count": 2,
   "metadata": {},
   "outputs": [
    {
     "name": "stderr",
     "output_type": "stream",
     "text": [
      "Using TensorFlow backend.\n"
     ]
    }
   ],
   "source": [
    "import numpy as np\n",
    "import pandas as pd\n",
    "import matplotlib.pyplot as plt\n",
    "%matplotlib inline\n",
    "from keras.layers import Dense, Activation, Flatten, Dropout, Convolution2D, MaxPooling2D\n",
    "from keras.models import Sequential\n",
    "from keras.utils import np_utils\n",
    "import os\n",
    "import cv2\n",
    "from keras.utils import np_utils\n",
    "from sklearn.model_selection import train_test_split \n",
    "from sklearn.utils import shuffle"
   ]
  },
  {
   "cell_type": "code",
   "execution_count": 3,
   "metadata": {},
   "outputs": [],
   "source": [
    "path = './Gestures/'"
   ]
  },
  {
   "cell_type": "code",
   "execution_count": 4,
   "metadata": {},
   "outputs": [
    {
     "name": "stdout",
     "output_type": "stream",
     "text": [
      "['a', 'b', 'c', 'd', 'e', 'f', 'g', 'h', 'i', 'j', 'k', 'l', 'm', 'n', 'Nothing', 'o', 'p', 'q', 'r', 's', 't', 'u', 'v', 'w', 'x', 'y', 'z']\n"
     ]
    }
   ],
   "source": [
    "gestures = os.listdir(path)[1:]\n",
    "print gestures"
   ]
  },
  {
   "cell_type": "code",
   "execution_count": 5,
   "metadata": {},
   "outputs": [],
   "source": [
    "x , y = [], []\n",
    "\n",
    "for i in gestures:\n",
    "    images = os.listdir(path + i)\n",
    "#     print images\n",
    "    for j in images:\n",
    "        if j == \".DS_Store\":\n",
    "            continue\n",
    "        img_path = path + i + '/' + j\n",
    "        img = cv2.imread(img_path, 0)\n",
    "        img = cv2.resize( img, (100,100) )\n",
    "        img = np.array(img)\n",
    "        img = img.reshape( (100,100,1) )\n",
    "        img = img/255.0\n",
    "        x.append(img)\n",
    "        if i == 'Nothing':\n",
    "            y.append(0)\n",
    "        else:\n",
    "            y.append( ord(i) - 96 )"
   ]
  },
  {
   "cell_type": "code",
   "execution_count": 6,
   "metadata": {},
   "outputs": [
    {
     "name": "stdout",
     "output_type": "stream",
     "text": [
      "[0 1 2 3 4 5 6]\n",
      "[1 1 1 ... 0 0 0]\n"
     ]
    }
   ],
   "source": [
    "x = np.array(x)\n",
    "y = np.array(y)\n",
    "print np.unique(y)\n",
    "print y"
   ]
  },
  {
   "cell_type": "code",
   "execution_count": 7,
   "metadata": {},
   "outputs": [],
   "source": [
    "x , y = shuffle(x, y, random_state=0)"
   ]
  },
  {
   "cell_type": "code",
   "execution_count": 8,
   "metadata": {},
   "outputs": [
    {
     "name": "stdout",
     "output_type": "stream",
     "text": [
      "3\n"
     ]
    }
   ],
   "source": [
    "print ord('c') - 96"
   ]
  },
  {
   "cell_type": "code",
   "execution_count": 9,
   "metadata": {},
   "outputs": [],
   "source": [
    "x_train,x_test,y_train,y_test = train_test_split(x,y,test_size=0.30)"
   ]
  },
  {
   "cell_type": "code",
   "execution_count": 11,
   "metadata": {},
   "outputs": [
    {
     "name": "stdout",
     "output_type": "stream",
     "text": [
      "(array([0, 1, 2, 3, 4, 5, 6]), array([299, 314, 320, 289, 287, 293, 298]))\n"
     ]
    }
   ],
   "source": [
    "print np.unique(y_test, return_counts=True)"
   ]
  },
  {
   "cell_type": "code",
   "execution_count": 9,
   "metadata": {},
   "outputs": [
    {
     "name": "stdout",
     "output_type": "stream",
     "text": [
      "(4900, 7)\n",
      "(2100, 7)\n"
     ]
    }
   ],
   "source": [
    "y_train = np_utils.to_categorical(y_train)\n",
    "y_test = np_utils.to_categorical(y_test)\n",
    "print y_train.shape\n",
    "print y_test.shape"
   ]
  },
  {
   "cell_type": "code",
   "execution_count": 11,
   "metadata": {},
   "outputs": [
    {
     "name": "stdout",
     "output_type": "stream",
     "text": [
      "_________________________________________________________________\n",
      "Layer (type)                 Output Shape              Param #   \n",
      "=================================================================\n",
      "flatten_1 (Flatten)          (None, 10000)             0         \n",
      "_________________________________________________________________\n",
      "dense_1 (Dense)              (None, 128)               1280128   \n",
      "_________________________________________________________________\n",
      "activation_1 (Activation)    (None, 128)               0         \n",
      "_________________________________________________________________\n",
      "dense_2 (Dense)              (None, 64)                8256      \n",
      "_________________________________________________________________\n",
      "dropout_1 (Dropout)          (None, 64)                0         \n",
      "_________________________________________________________________\n",
      "activation_2 (Activation)    (None, 64)                0         \n",
      "_________________________________________________________________\n",
      "dense_3 (Dense)              (None, 7)                 455       \n",
      "_________________________________________________________________\n",
      "activation_3 (Activation)    (None, 7)                 0         \n",
      "=================================================================\n",
      "Total params: 1,288,839\n",
      "Trainable params: 1,288,839\n",
      "Non-trainable params: 0\n",
      "_________________________________________________________________\n"
     ]
    }
   ],
   "source": [
    "# model = Sequential()\n",
    "# model.add(Flatten(input_shape=(100, 100, 1)))\n",
    "# model.add(Dense(128))\n",
    "# model.add(Activation('relu'))\n",
    "# model.add(Dense(64))\n",
    "# model.add( Dropout(0.4) )\n",
    "# model.add(Activation('relu'))\n",
    "# model.add(Dense(7))\n",
    "# model.add(Activation('softmax'))\n",
    "\n",
    "# model.summary()"
   ]
  },
  {
   "cell_type": "code",
   "execution_count": 21,
   "metadata": {},
   "outputs": [
    {
     "name": "stdout",
     "output_type": "stream",
     "text": [
      "_________________________________________________________________\n",
      "Layer (type)                 Output Shape              Param #   \n",
      "=================================================================\n",
      "conv2d_7 (Conv2D)            (None, 98, 98, 32)        320       \n",
      "_________________________________________________________________\n",
      "activation_11 (Activation)   (None, 98, 98, 32)        0         \n",
      "_________________________________________________________________\n",
      "conv2d_8 (Conv2D)            (None, 96, 96, 64)        18496     \n",
      "_________________________________________________________________\n",
      "activation_12 (Activation)   (None, 96, 96, 64)        0         \n",
      "_________________________________________________________________\n",
      "max_pooling2d_3 (MaxPooling2 (None, 48, 48, 64)        0         \n",
      "_________________________________________________________________\n",
      "conv2d_9 (Conv2D)            (None, 46, 46, 16)        9232      \n",
      "_________________________________________________________________\n",
      "activation_13 (Activation)   (None, 46, 46, 16)        0         \n",
      "_________________________________________________________________\n",
      "flatten_4 (Flatten)          (None, 33856)             0         \n",
      "_________________________________________________________________\n",
      "dropout_4 (Dropout)          (None, 33856)             0         \n",
      "_________________________________________________________________\n",
      "dense_5 (Dense)              (None, 7)                 236999    \n",
      "_________________________________________________________________\n",
      "activation_14 (Activation)   (None, 7)                 0         \n",
      "=================================================================\n",
      "Total params: 265,047\n",
      "Trainable params: 265,047\n",
      "Non-trainable params: 0\n",
      "_________________________________________________________________\n"
     ]
    },
    {
     "name": "stderr",
     "output_type": "stream",
     "text": [
      "/usr/local/lib/python2.7/site-packages/ipykernel_launcher.py:3: UserWarning: Update your `Conv2D` call to the Keras 2 API: `Conv2D(32, (3, 3), input_shape=(100, 100,...)`\n",
      "  This is separate from the ipykernel package so we can avoid doing imports until\n",
      "/usr/local/lib/python2.7/site-packages/ipykernel_launcher.py:6: UserWarning: Update your `Conv2D` call to the Keras 2 API: `Conv2D(64, (3, 3))`\n",
      "  \n",
      "/usr/local/lib/python2.7/site-packages/ipykernel_launcher.py:11: UserWarning: Update your `Conv2D` call to the Keras 2 API: `Conv2D(16, (3, 3))`\n",
      "  # This is added back by InteractiveShellApp.init_path()\n"
     ]
    }
   ],
   "source": [
    "model = Sequential()\n",
    "\n",
    "model.add( Convolution2D(32, 3, 3, input_shape = (100,100,1) ) )\n",
    "model.add( Activation('relu') )\n",
    "\n",
    "model.add( Convolution2D( 64,3,3 ) )\n",
    "model.add( Activation('relu') )\n",
    "\n",
    "model.add( MaxPooling2D( pool_size=(2,2) ) )\n",
    "\n",
    "model.add( Convolution2D( 16, 3, 3 ) )\n",
    "model.add( Activation('relu') )\n",
    "\n",
    "model.add( Flatten() )\n",
    "\n",
    "model.add( Dropout(0.25) )\n",
    "model.add( Dense(7) )\n",
    "\n",
    "model.add( Activation('softmax') )\n",
    "\n",
    "model.summary()"
   ]
  },
  {
   "cell_type": "code",
   "execution_count": 22,
   "metadata": {},
   "outputs": [],
   "source": [
    "model.compile(optimizer='adam', loss='categorical_crossentropy', metrics=['accuracy'])"
   ]
  },
  {
   "cell_type": "code",
   "execution_count": 23,
   "metadata": {},
   "outputs": [
    {
     "name": "stdout",
     "output_type": "stream",
     "text": [
      "Train on 4900 samples, validate on 2100 samples\n",
      "Epoch 1/10\n",
      "4900/4900 [==============================] - 260s 53ms/step - loss: 0.4540 - acc: 0.8612 - val_loss: 0.0996 - val_acc: 0.9743\n",
      "Epoch 2/10\n",
      "4900/4900 [==============================] - 258s 53ms/step - loss: 0.0560 - acc: 0.9835 - val_loss: 0.0240 - val_acc: 0.9948\n",
      "Epoch 3/10\n",
      "4900/4900 [==============================] - 280s 57ms/step - loss: 0.0119 - acc: 0.9967 - val_loss: 0.0299 - val_acc: 0.9905\n",
      "Epoch 4/10\n",
      "4900/4900 [==============================] - 260s 53ms/step - loss: 0.0072 - acc: 0.9976 - val_loss: 0.0333 - val_acc: 0.9924\n",
      "Epoch 5/10\n",
      "4900/4900 [==============================] - 267s 54ms/step - loss: 0.0196 - acc: 0.9949 - val_loss: 0.0116 - val_acc: 0.9957\n",
      "Epoch 6/10\n",
      "4900/4900 [==============================] - 260s 53ms/step - loss: 0.0012 - acc: 1.0000 - val_loss: 0.0053 - val_acc: 0.9981\n",
      "Epoch 7/10\n",
      "4900/4900 [==============================] - 264s 54ms/step - loss: 2.3355e-04 - acc: 1.0000 - val_loss: 0.0055 - val_acc: 0.9981\n",
      "Epoch 8/10\n",
      "4900/4900 [==============================] - 263s 54ms/step - loss: 5.0629e-05 - acc: 1.0000 - val_loss: 0.0056 - val_acc: 0.9976\n",
      "Epoch 9/10\n",
      "4900/4900 [==============================] - 263s 54ms/step - loss: 4.3027e-05 - acc: 1.0000 - val_loss: 0.0056 - val_acc: 0.9981\n",
      "Epoch 10/10\n",
      "4900/4900 [==============================] - 266s 54ms/step - loss: 4.9164e-05 - acc: 1.0000 - val_loss: 0.0056 - val_acc: 0.9981\n"
     ]
    },
    {
     "data": {
      "text/plain": [
       "<keras.callbacks.History at 0x1420f9290>"
      ]
     },
     "execution_count": 23,
     "metadata": {},
     "output_type": "execute_result"
    }
   ],
   "source": [
    "model.fit( x_train, y_train, validation_data=( x_test, y_test ), shuffle=True, epochs=10 )"
   ]
  },
  {
   "cell_type": "code",
   "execution_count": 25,
   "metadata": {},
   "outputs": [],
   "source": [
    "model.save('Gesture_Recognizing.h5')"
   ]
  },
  {
   "cell_type": "code",
   "execution_count": null,
   "metadata": {},
   "outputs": [],
   "source": []
  }
 ],
 "metadata": {
  "kernelspec": {
   "display_name": "Python 2",
   "language": "python",
   "name": "python2"
  },
  "language_info": {
   "codemirror_mode": {
    "name": "ipython",
    "version": 2
   },
   "file_extension": ".py",
   "mimetype": "text/x-python",
   "name": "python",
   "nbconvert_exporter": "python",
   "pygments_lexer": "ipython2",
   "version": "2.7.15"
  }
 },
 "nbformat": 4,
 "nbformat_minor": 2
}
